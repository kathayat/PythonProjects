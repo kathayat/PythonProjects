{
 "cells": [
  {
   "cell_type": "code",
   "execution_count": null,
   "id": "2c977f84",
   "metadata": {},
   "outputs": [],
   "source": [
    "import pandas as pd\n",
    "import numpy as np\n"
   ]
  },
  {
   "cell_type": "code",
   "execution_count": null,
   "id": "894c74d3",
   "metadata": {},
   "outputs": [],
   "source": [
    "train = pd.read_csv('C:/Users/Karan Kathayat/Downloads/archive (3)/train.csv')\n",
    "test = pd.read_csv('C:/Users/Karan Kathayat/Downloads/archive (3)/test.csv')"
   ]
  },
  {
   "cell_type": "code",
   "execution_count": null,
   "id": "bc5987ac",
   "metadata": {},
   "outputs": [],
   "source": [
    "train.head()"
   ]
  },
  {
   "cell_type": "code",
   "execution_count": null,
   "id": "325d7e15",
   "metadata": {},
   "outputs": [],
   "source": [
    "test.head()"
   ]
  },
  {
   "cell_type": "code",
   "execution_count": null,
   "id": "521c11d1",
   "metadata": {},
   "outputs": [],
   "source": [
    "import seaborn as sns\n",
    "import matplotlib as plt\n",
    "import warnings\n",
    "%matplotlib inline\n",
    "warnings.filterwarnings('ignore')"
   ]
  },
  {
   "cell_type": "code",
   "execution_count": null,
   "id": "f8847278",
   "metadata": {},
   "outputs": [],
   "source": [
    "train.describe()"
   ]
  },
  {
   "cell_type": "code",
   "execution_count": null,
   "id": "86f74eed",
   "metadata": {},
   "outputs": [],
   "source": [
    "train.info()"
   ]
  },
  {
   "cell_type": "code",
   "execution_count": null,
   "id": "6c950c15",
   "metadata": {},
   "outputs": [],
   "source": [
    "#Check Unique values\n",
    "\n",
    "train.apply(lambda x: len(x.unique()))"
   ]
  },
  {
   "cell_type": "code",
   "execution_count": null,
   "id": "53ea9fb9",
   "metadata": {
    "scrolled": false
   },
   "outputs": [],
   "source": [
    "#Check for null values\n",
    "\n",
    "train.isnull().sum()"
   ]
  },
  {
   "cell_type": "code",
   "execution_count": null,
   "id": "fbcc83dc",
   "metadata": {},
   "outputs": [],
   "source": [
    "cat = []\n",
    "for x in train.dtypes.index:\n",
    "    if train.dtypes[x]=='object':\n",
    "        cat.append(x)\n",
    "        \n",
    "cat"
   ]
  },
  {
   "cell_type": "code",
   "execution_count": null,
   "id": "98e64f19",
   "metadata": {},
   "outputs": [],
   "source": [
    "cat.remove('Item_Identifier')\n",
    "cat.remove('Outlet_Identifier')\n",
    "cat"
   ]
  },
  {
   "cell_type": "code",
   "execution_count": null,
   "id": "1c9d1c7f",
   "metadata": {},
   "outputs": [],
   "source": [
    "for col in cat:\n",
    "    print(col)\n",
    "    print(train[col].value_counts())\n",
    "    print()"
   ]
  },
  {
   "cell_type": "code",
   "execution_count": null,
   "id": "ef0b462d",
   "metadata": {},
   "outputs": [],
   "source": [
    "#Fill missing / null values\n",
    "\n",
    "item_weight_mean = train.pivot_table(values=\"Item_Weight\",index='Item_Identifier')\n",
    "item_weight_mean\n"
   ]
  },
  {
   "cell_type": "code",
   "execution_count": null,
   "id": "a3f125df",
   "metadata": {},
   "outputs": [],
   "source": [
    "miss_b = train['Item_Weight'].isnull()\n",
    "miss_b"
   ]
  },
  {
   "cell_type": "code",
   "execution_count": null,
   "id": "aac87a34",
   "metadata": {},
   "outputs": [],
   "source": [
    "for i, item in enumerate(train['Item_Identifier']):\n",
    "    if miss_b[i]:\n",
    "        if item in item_weight_mean:\n",
    "            train['Item_Weight'][i] = item_weight_mean.loc[item]['Item_Weight']\n",
    "        else:\n",
    "            train['Item_Weight'][i]= 0"
   ]
  },
  {
   "cell_type": "code",
   "execution_count": null,
   "id": "8212ee9d",
   "metadata": {},
   "outputs": [],
   "source": [
    "train['Item_Weight'].isnull().sum()"
   ]
  },
  {
   "cell_type": "code",
   "execution_count": null,
   "id": "2e7c5e01",
   "metadata": {},
   "outputs": [],
   "source": [
    "outlet_size_mode = train.pivot_table(values='Outlet_Size',columns='Outlet_Type',aggfunc=(lambda x: x.mode()[0]))\n",
    "\n",
    "outlet_size_mode"
   ]
  },
  {
   "cell_type": "code",
   "execution_count": null,
   "id": "85a56bf2",
   "metadata": {},
   "outputs": [],
   "source": [
    "miss_bool = train['Outlet_Size'].isnull()\n",
    "\n",
    "train.loc[miss_bool, 'Outlet_Size'] = train.loc[miss_bool, 'Outlet_Type'].apply(lambda x: outlet_size_mode[x])"
   ]
  },
  {
   "cell_type": "code",
   "execution_count": null,
   "id": "670d0bc6",
   "metadata": {},
   "outputs": [],
   "source": [
    "train['Outlet_Size'].isnull().sum()"
   ]
  },
  {
   "cell_type": "code",
   "execution_count": null,
   "id": "1e00d7c2",
   "metadata": {},
   "outputs": [],
   "source": [
    "sum(train['Item_Visibility']==0)"
   ]
  },
  {
   "cell_type": "code",
   "execution_count": null,
   "id": "8d37a73c",
   "metadata": {},
   "outputs": [],
   "source": [
    "train.loc[:, 'Item_Visibility'].replace([0],[train['Item_Visibility'].mean()],inplace = True)"
   ]
  },
  {
   "cell_type": "code",
   "execution_count": null,
   "id": "c22efb27",
   "metadata": {},
   "outputs": [],
   "source": [
    "sum(train['Item_Visibility']==0)"
   ]
  },
  {
   "cell_type": "code",
   "execution_count": null,
   "id": "a23072b1",
   "metadata": {},
   "outputs": [],
   "source": [
    "train['Item_Fat_Content'] = train['Item_Fat_Content'].replace({'LF':'Low Fat','reg':'Regular','low fat':'Low Fat'})\n",
    "\n",
    "train['Item_Fat_Content'].value_counts()"
   ]
  },
  {
   "cell_type": "code",
   "execution_count": null,
   "id": "8b9c3ed5",
   "metadata": {},
   "outputs": [],
   "source": [
    "#CREATE NEW ATTRIBUTES"
   ]
  },
  {
   "cell_type": "code",
   "execution_count": null,
   "id": "ce765b1a",
   "metadata": {},
   "outputs": [],
   "source": [
    "train.head()"
   ]
  },
  {
   "cell_type": "code",
   "execution_count": null,
   "id": "cda708ec",
   "metadata": {},
   "outputs": [],
   "source": []
  }
 ],
 "metadata": {
  "kernelspec": {
   "display_name": "Python 3 (ipykernel)",
   "language": "python",
   "name": "python3"
  },
  "language_info": {
   "codemirror_mode": {
    "name": "ipython",
    "version": 3
   },
   "file_extension": ".py",
   "mimetype": "text/x-python",
   "name": "python",
   "nbconvert_exporter": "python",
   "pygments_lexer": "ipython3",
   "version": "3.9.12"
  }
 },
 "nbformat": 4,
 "nbformat_minor": 5
}
