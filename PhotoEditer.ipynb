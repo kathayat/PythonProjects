{
 "cells": [
  {
   "cell_type": "code",
   "execution_count": 1,
   "id": "a1727611",
   "metadata": {},
   "outputs": [],
   "source": [
    "from PIL import Image, ImageEnhance, ImageFilter"
   ]
  },
  {
   "cell_type": "code",
   "execution_count": 2,
   "id": "d628227d",
   "metadata": {},
   "outputs": [],
   "source": [
    "import os"
   ]
  },
  {
   "cell_type": "code",
   "execution_count": 3,
   "id": "83056d0f",
   "metadata": {},
   "outputs": [],
   "source": [
    "path = './imgs'\n",
    "pathOut = './editedimgs'"
   ]
  },
  {
   "cell_type": "code",
   "execution_count": null,
   "id": "2394c6a9",
   "metadata": {},
   "outputs": [],
   "source": [
    "for filename in os.listdir(path):\n",
    "    img = Image.open(f\"{path}/{filename}\")\n",
    "    \n",
    "    edit = img.filter(ImageFilter.Sharpen).convert('L').rotate(-90)\n",
    "    \n",
    "    factor = 1.5\n",
    "    enhancer =  ImageEnhance.Contrast(edit)\n",
    "    edit = enhancer.enhance(edit)\n",
    "    \n",
    "    clean_name = os.path.splitext(filename)[0]\n",
    "    \n",
    "    edit.save(f'.{pathOut}/{clean_name}_edited.jpg')"
   ]
  },
  {
   "cell_type": "code",
   "execution_count": null,
   "id": "d89e2e14",
   "metadata": {},
   "outputs": [],
   "source": []
  }
 ],
 "metadata": {
  "kernelspec": {
   "display_name": "Python 3 (ipykernel)",
   "language": "python",
   "name": "python3"
  },
  "language_info": {
   "codemirror_mode": {
    "name": "ipython",
    "version": 3
   },
   "file_extension": ".py",
   "mimetype": "text/x-python",
   "name": "python",
   "nbconvert_exporter": "python",
   "pygments_lexer": "ipython3",
   "version": "3.9.12"
  }
 },
 "nbformat": 4,
 "nbformat_minor": 5
}
